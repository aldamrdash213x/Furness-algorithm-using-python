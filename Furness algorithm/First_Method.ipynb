{
  "nbformat": 4,
  "nbformat_minor": 0,
  "metadata": {
    "colab": {
      "provenance": []
    },
    "kernelspec": {
      "name": "python3",
      "display_name": "Python 3"
    },
    "language_info": {
      "name": "python"
    }
  },
  "cells": [
    {
      "cell_type": "code",
      "execution_count": 1,
      "metadata": {
        "id": "dIq3_lXGfr1p"
      },
      "outputs": [],
      "source": [
        "# import numpy to deal with matrices\n",
        "import numpy as np"
      ]
    },
    {
      "cell_type": "code",
      "source": [
        "# declare the original matrix in this case\n",
        "originalOD = np.array([[200,700], [300,100]])\n",
        "print(\"the originalOD is :\\n\",originalOD)\n"
      ],
      "metadata": {
        "colab": {
          "base_uri": "https://localhost:8080/"
        },
        "id": "wT0PcdVUf0LL",
        "outputId": "c6f71bbe-808c-476a-ee5d-0687cf0fad54"
      },
      "execution_count": 2,
      "outputs": [
        {
          "output_type": "stream",
          "name": "stdout",
          "text": [
            "the originalOD is :\n",
            " [[200 700]\n",
            " [300 100]]\n"
          ]
        }
      ]
    },
    {
      "cell_type": "code",
      "source": [
        "# declare the future of original and the future of destination\n",
        "targetD=np.array([1100,1500])\n",
        "targetO=np.array([1800,900])"
      ],
      "metadata": {
        "id": "rNa135fTfxph"
      },
      "execution_count": 3,
      "outputs": []
    },
    {
      "cell_type": "code",
      "source": [
        "# assume that B's = 1 to clac first value of A\n",
        "B = np.array([1,1])\n",
        "Number_Of_Iterations = 1\n",
        "Convergence=0"
      ],
      "metadata": {
        "id": "vqA4RX1Zf53k"
      },
      "execution_count": 7,
      "outputs": []
    },
    {
      "cell_type": "code",
      "source": [
        "while True :\n",
        " # do next\n",
        " #A = future A / sum of mlutiply by B\n",
        " newOD=np.multiply(originalOD,B)\n",
        " newO=np.sum(newOD,axis=1)\n",
        " A = targetO / newO\n",
        " # do next\n",
        " # B = future B / sum of mlutiply by A\n",
        " newOD=np.multiply(originalOD,A)\n",
        " newD = np.sum(newOD, axis=0)\n",
        " B = targetD / newD\n",
        " print(\"Number Of Iterations \",Number_Of_Iterations)\n",
        " # split the array that contain the all value of A to a1,a2,...........,n\n",
        " x1,x2= np.split(A,[1])\n",
        " # split the array that contain the all value of B to a1,a2,...........,n\n",
        " y1,y2= np.split(B,[1])\n",
        " print(f\"a1 = {x1} \\na2 = {x2} \\n\")\n",
        " print(f\"b1 = {y1} \\nb2 = {y2} \\n\")\n",
        " Number_Of_Iterations +=1\n",
        " Convergence = (sum(newO)/sum(targetO)+sum(newD)/sum(targetD))/2\n",
        " print('Converged:', round(Convergence,3))\n",
        " if Convergence<1.04 and Convergence>1.01:\n",
        "    break\n",
        " else:\n",
        "    continue"
      ],
      "metadata": {
        "colab": {
          "base_uri": "https://localhost:8080/"
        },
        "id": "9_NQomLQgCCY",
        "outputId": "6d719dca-d204-44fd-829d-300ad9c8a176"
      },
      "execution_count": 8,
      "outputs": [
        {
          "output_type": "stream",
          "name": "stdout",
          "text": [
            "Number Of Iterations  1\n",
            "a1 = [2.] \n",
            "a2 = [2.25] \n",
            "\n",
            "b1 = [1.1] \n",
            "b2 = [0.83333333] \n",
            "\n",
            "Converged: 0.779\n",
            "Number Of Iterations  2\n",
            "a1 = [2.2406639] \n",
            "a2 = [2.17741935] \n",
            "\n",
            "b1 = [0.98185185] \n",
            "b2 = [0.86111111] \n",
            "\n",
            "Converged: 0.776\n",
            "Number Of Iterations  3\n",
            "a1 = [2.25239839] \n",
            "a2 = [2.3642732] \n",
            "\n",
            "b1 = [0.97673663] \n",
            "b2 = [0.79305556] \n",
            "\n",
            "Converged: 0.799\n",
            "Number Of Iterations  4\n",
            "a1 = [2.39844512] \n",
            "a2 = [2.41723298] \n",
            "\n",
            "b1 = [0.91726093] \n",
            "b2 = [0.7756803] \n",
            "\n",
            "Converged: 0.81\n",
            "Number Of Iterations  5\n",
            "a1 = [2.47787671] \n",
            "a2 = [2.5514087] \n",
            "\n",
            "b1 = [0.88785693] \n",
            "b2 = [0.73488814] \n",
            "\n",
            "Converged: 0.831\n",
            "Number Of Iterations  6\n",
            "a1 = [2.60118206] \n",
            "a2 = [2.64825917] \n",
            "\n",
            "b1 = [0.84576933] \n",
            "b2 = [0.70801228] \n",
            "\n",
            "Converged: 0.849\n",
            "Number Of Iterations  7\n",
            "a1 = [2.70773414] \n",
            "a2 = [2.773224] \n",
            "\n",
            "b1 = [0.81248745] \n",
            "b2 = [0.67610839] \n",
            "\n",
            "Converged: 0.87\n",
            "Number Of Iterations  8\n",
            "a1 = [2.83119758] \n",
            "a2 = [2.89057188] \n",
            "\n",
            "b1 = [0.77705633] \n",
            "b2 = [0.64866057] \n",
            "\n",
            "Converged: 0.892\n",
            "Number Of Iterations  9\n",
            "a1 = [2.95336797] \n",
            "a2 = [3.02030698] \n",
            "\n",
            "b1 = [0.74491226] \n",
            "b2 = [0.62079782] \n",
            "\n",
            "Converged: 0.917\n",
            "Number Of Iterations  10\n",
            "a1 = [3.08461654] \n",
            "a2 = [3.15177411] \n",
            "\n",
            "b1 = [0.71321669] \n",
            "b2 = [0.59490304] \n",
            "\n",
            "Converged: 0.942\n",
            "Number Of Iterations  11\n",
            "a1 = [3.21960113] \n",
            "a2 = [3.29121419] \n",
            "\n",
            "b1 = [0.68331446] \n",
            "b2 = [0.56969856] \n",
            "\n",
            "Converged: 0.97\n",
            "Number Of Iterations  12\n",
            "a1 = [3.36164657] \n",
            "a2 = [3.43558402] \n",
            "\n",
            "b1 = [0.6544412] \n",
            "b2 = [0.54575874] \n",
            "\n",
            "Converged: 0.999\n",
            "Number Of Iterations  13\n",
            "a1 = [3.5093236] \n",
            "a2 = [3.5869688] \n",
            "\n",
            "b1 = [0.62690143] \n",
            "b2 = [0.52272548] \n",
            "\n",
            "Converged: 1.031\n"
          ]
        }
      ]
    }
  ]
}