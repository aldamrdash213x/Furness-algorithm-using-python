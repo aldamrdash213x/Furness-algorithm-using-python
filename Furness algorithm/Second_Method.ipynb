{
  "nbformat": 4,
  "nbformat_minor": 0,
  "metadata": {
    "colab": {
      "provenance": []
    },
    "kernelspec": {
      "name": "python3",
      "display_name": "Python 3"
    },
    "language_info": {
      "name": "python"
    }
  },
  "cells": [
    {
      "cell_type": "code",
      "execution_count": 1,
      "metadata": {
        "id": "uM_Z_lKqncsP"
      },
      "outputs": [],
      "source": [
        "# import numpy to deal with matrices\n",
        "import numpy as np\n",
        "\n",
        "\n",
        "\n",
        "\n",
        "\n"
      ]
    },
    {
      "cell_type": "code",
      "source": [
        "# declare the original matrix in this case\n",
        "originalOD = np.array([[200,700], [300,100]])\n",
        "\n",
        "print(\"the originalOD is :\\n\",originalOD)\n"
      ],
      "metadata": {
        "colab": {
          "base_uri": "https://localhost:8080/"
        },
        "id": "AKylPnA8novF",
        "outputId": "cc3ea537-8957-4ccd-9a27-a09c359b484f"
      },
      "execution_count": 2,
      "outputs": [
        {
          "output_type": "stream",
          "name": "stdout",
          "text": [
            "the originalOD is :\n",
            " [[200 700]\n",
            " [300 100]]\n"
          ]
        }
      ]
    },
    {
      "cell_type": "code",
      "source": [
        "# declare the future of original and the future of destination\n",
        "\n",
        "targetD=np.array([1100,1500])\n",
        "targetO=np.array([1800,900])"
      ],
      "metadata": {
        "id": "IKtZlM8knpqm"
      },
      "execution_count": 3,
      "outputs": []
    },
    {
      "cell_type": "code",
      "source": [
        "Convergence=0\n",
        "new_Od=originalOD\n",
        "newD=np.sum(new_Od,axis=0)\n",
        "newO=np.sum(new_Od,axis=1)\n",
        "Number_Of_Iterations =0"
      ],
      "metadata": {
        "id": "IzcZrT34nte4"
      },
      "execution_count": 4,
      "outputs": []
    },
    {
      "cell_type": "code",
      "source": [
        "while  True :\n",
        "    # do next\n",
        "    #A = future A / sum of mlutiply by B\n",
        "    B = targetD / newD\n",
        "    A = targetO / newO\n",
        "    new_Od = np.multiply(new_Od, A)\n",
        "    newD = np.sum(new_Od, axis=0)\n",
        "\n",
        "    new_Od=np.multiply(new_Od,B)\n",
        "    newO=np.sum(new_Od,axis=1)\n",
        "\n",
        "    # do next\n",
        "    # B = future B / sum of mlutiply by A\n",
        "    print(\"Number Of Iterations \",Number_Of_Iterations)\n",
        "    # split the array that contain the all value of A to a1,a2,...........,n\n",
        "    x1,x2= np.split(A,[1])\n",
        "    # split the array that contain the all value of B to a1,a2,...........,n\n",
        "    y1,y2= np.split(B,[1])\n",
        "\n",
        "    print(f\"a1 = {x1} \\na2 = {x2} \\n\")\n",
        "    print(f\"b1 = {y1} \\nb2 = {y2} \\n\")\n",
        "    Number_Of_Iterations +=1\n",
        "\n",
        "    Convergence = (sum(newO)/sum(targetO)+sum(newD)/sum(targetD))/2\n",
        "    print('Converged:', round(Convergence,3))\n",
        "    if Convergence < 1.01 and Convergence > 0.99:\n",
        "        break\n",
        "    else:\n",
        "        continue"
      ],
      "metadata": {
        "colab": {
          "base_uri": "https://localhost:8080/"
        },
        "id": "DIaaDk_Fnwrj",
        "outputId": "e2118800-5e3e-4304-eceb-fc74a7d83872"
      },
      "execution_count": 5,
      "outputs": [
        {
          "output_type": "stream",
          "name": "stdout",
          "text": [
            "Number Of Iterations  0\n",
            "a1 = [2.] \n",
            "a2 = [2.25] \n",
            "\n",
            "b1 = [2.2] \n",
            "b2 = [1.875] \n",
            "\n",
            "Converged: 1.571\n",
            "Number Of Iterations  1\n",
            "a1 = [0.46959074] \n",
            "a2 = [0.51668461] \n",
            "\n",
            "b1 = [1.1] \n",
            "b2 = [0.83333333] \n",
            "\n",
            "Converged: 1.014\n",
            "Number Of Iterations  2\n",
            "a1 = [1.04281789] \n",
            "a2 = [1.04227866] \n",
            "\n",
            "b1 = [1.06475694] \n",
            "b2 = [0.86018519] \n",
            "\n",
            "Converged: 0.994\n"
          ]
        }
      ]
    }
  ]
}